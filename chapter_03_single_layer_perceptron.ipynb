{
 "cells": [
  {
   "cell_type": "code",
   "execution_count": 1,
   "id": "a6ea357c-3185-4a52-9cc9-c6e94f571a19",
   "metadata": {},
   "outputs": [
    {
     "name": "stderr",
     "output_type": "stream",
     "text": [
      "2023-09-14 03:56:36.507690: I tensorflow/tsl/cuda/cudart_stub.cc:28] Could not find cuda drivers on your machine, GPU will not be used.\n",
      "2023-09-14 03:56:36.598753: I tensorflow/tsl/cuda/cudart_stub.cc:28] Could not find cuda drivers on your machine, GPU will not be used.\n",
      "2023-09-14 03:56:36.602248: I tensorflow/core/platform/cpu_feature_guard.cc:182] This TensorFlow binary is optimized to use available CPU instructions in performance-critical operations.\n",
      "To enable the following instructions: AVX2 FMA, in other operations, rebuild TensorFlow with the appropriate compiler flags.\n",
      "2023-09-14 03:56:38.917563: W tensorflow/compiler/tf2tensorrt/utils/py_utils.cc:38] TF-TRT Warning: Could not find TensorRT\n"
     ]
    }
   ],
   "source": [
    "# Importing necessary libraries\n",
    "import numpy as np\n",
    "import tensorflow as tf\n",
    "from tensorflow.keras.datasets import mnist\n",
    "from bokeh.plotting import figure, output_file, save, show\n",
    "from bokeh.models import Range1d, LinearAxis, FactorRange, ColumnDataSource, LabelSet, LinearColorMapper\n",
    "from bokeh.io import output_notebook\n",
    "from matplotlib import gridspec, colors\n",
    "from bokeh.palettes import Greys256\n",
    "\n",
    "from bokeh.models import ColumnDataSource, LabelSet\n",
    "from bokeh.transform import transform\n",
    "\n",
    "import matplotlib.pyplot as plt\n",
    "import numpy as np"
   ]
  },
  {
   "cell_type": "code",
   "execution_count": 2,
   "id": "f7912220-a1a5-4559-afea-4d3374433afc",
   "metadata": {},
   "outputs": [],
   "source": [
    "def plot_sample_digits(x_train, y_train):\n",
    "    # Convert one-hot encoded y_train back to label format\n",
    "    y_train_labels = np.argmax(y_train.numpy(), axis=1)\n",
    "    \n",
    "    # Convert x_train to numpy\n",
    "    x_train_np = x_train.numpy()\n",
    "\n",
    "    # Prepare an example of each digit\n",
    "    examples = {}\n",
    "    for i in range(10):\n",
    "        examples[i] = x_train_np[np.argwhere(y_train_labels == i)[0][0]].reshape(28, 28)\n",
    "        \n",
    "    # Prepare the figure\n",
    "    fig, axes = plt.subplots(2, 5, figsize=(10,4))\n",
    "\n",
    "    for i in range(10):\n",
    "        ax = axes[i//5, i%5]\n",
    "        ax.imshow(examples[i], cmap='gray', aspect='auto')\n",
    "        ax.axis('off')  # hide the axes ticks\n",
    "    \n",
    "    plt.subplots_adjust(wspace=0.1, hspace=0.1)\n",
    "    \n",
    "    # Check/Create model directory\n",
    "    output_file_path = f\"figures/03_mnist_examples.png\"\n",
    "    os.makedirs(output_file_path, exist_ok=True)\n",
    "    \n",
    "    #Save figure\n",
    "    plt.savefig(output_file_path)"
   ]
  },
  {
   "cell_type": "code",
   "execution_count": 3,
   "id": "0c3c9f80-ac47-4dbf-b5c0-8d63ee2b12a5",
   "metadata": {},
   "outputs": [],
   "source": [
    "# Plot loss and accuracy over epochs\n",
    "def plot_metrics(loss_per_epoch, accuracy_per_epoch):\n",
    "    # Create a new plot with a range for the loss [left]\n",
    "    p = figure(x_axis_label='Epochs', y_axis_label='Loss')\n",
    "    \n",
    "    output_notebook()\n",
    "    \n",
    "    # Set range for loss axis\n",
    "    loss_max = max(loss_per_epoch) + 0.05 * max(loss_per_epoch)  # for example, add 5% as a padding to the max value\n",
    "    p.y_range = Range1d(0, loss_max)  # adjust according to your loss data\n",
    "    \n",
    "    # Plot loss\n",
    "    p.line(np.arange(len(loss_per_epoch)) + 1, loss_per_epoch, legend_label=\"Loss\", line_color=\"red\", line_width = 3)\n",
    "    \n",
    "    # Create a new range for the accuracy [right]\n",
    "    p.extra_y_ranges = {\"AccuracyRange\": Range1d(start=0, end=100)} # Update the range\n",
    "    p.add_layout(LinearAxis(y_range_name=\"AccuracyRange\", axis_label=\"Accuracy (%)\"), 'right') # Update the label\n",
    "\n",
    "    # Scale accuracy values to percentage and plot\n",
    "    accuracy_per_epoch_percentage = [acc * 100 for acc in accuracy_per_epoch] # Scale accuracy\n",
    "    p.line(np.arange(len(accuracy_per_epoch_percentage)) + 1, accuracy_per_epoch_percentage, legend_label=\"Accuracy\", line_color=\"blue\", y_range_name=\"AccuracyRange\", line_width = 3) # Plot scaled accuracy\n",
    "    \n",
    "    # Remove the grid\n",
    "    p.xgrid.grid_line_color = None\n",
    "    p.ygrid.grid_line_color = None\n",
    "    \n",
    "    # Check/Create model directory\n",
    "    output_file_path = f\"figures/03_single_layer_metrics_plot.html\"\n",
    "    os.makedirs(output_file_path, exist_ok=True)\n",
    "    \n",
    "    # Save the plot\n",
    "    output_file(output_file_path)\n",
    "    show(p)\n",
    "\n",
    "\n",
    "def plot_metrics_plt(loss_per_epoch, accuracy_per_epoch):\n",
    "    fig, ax1 = plt.subplots()\n",
    "\n",
    "    # Plot loss\n",
    "    ax1.set_xlabel('Epochs')\n",
    "    ax1.set_ylabel('Loss')\n",
    "    loss_line, = ax1.plot(np.arange(len(loss_per_epoch)) + 1, loss_per_epoch, color='red', alpha=0.5, linewidth=3, label = \"Loss\")\n",
    "    ax1.tick_params(axis='y')\n",
    "\n",
    "    # Create a new axis for the accuracy plot\n",
    "    ax2 = ax1.twinx()\n",
    "    # Scale accuracy values to percentage and plot\n",
    "    accuracy_per_epoch_percentage = [acc * 100 for acc in accuracy_per_epoch]  # Scale accuracy\n",
    "    ax2.set_ylabel('Accuracy (%)')  # we already handled the x-label with ax1\n",
    "    accuracy_line, = ax2.plot(np.arange(len(accuracy_per_epoch_percentage)) + 1, accuracy_per_epoch_percentage, color='navy', alpha=0.5, linewidth=3, label = \"Accuracy\")\n",
    "    ax2.tick_params(axis='y')\n",
    "    ax2.set_ylim([0, 100])\n",
    "    \n",
    "    # Get lines and labels for legend\n",
    "    lines = [loss_line, accuracy_line]\n",
    "    labels = [l.get_label() for l in lines]\n",
    "    \n",
    "    # Create legend\n",
    "    fig.legend(lines, labels, loc='center right')\n",
    "    \n",
    "    # Remove top and right border\n",
    "    ax1.spines['top'].set_visible(False)\n",
    "    ax2.spines['top'].set_visible(False)\n",
    "    \n",
    "    fig.tight_layout()  # otherwise the right y-label is slightly clipped\n",
    "    plt.show()"
   ]
  },
  {
   "cell_type": "code",
   "execution_count": 4,
   "id": "fd8b8f10-8492-4f81-a6c5-b2a8ee80aa88",
   "metadata": {},
   "outputs": [],
   "source": [
    "def plot_model_output(model, output_digit, instance, x_data, y_data):\n",
    "    # Convert one-hot encoded y_train back to label format\n",
    "    y_labels = np.argmax(y_data, axis=1)\n",
    "    \n",
    "    output_notebook()\n",
    "    \n",
    "    # Find the first instance of '0'\n",
    "    zero_index = np.argwhere(y_labels == output_digit)[instance][0]\n",
    "    zero_input = tf.reshape(x_data[zero_index], (1, -1)) # Reshape it to match model input shape\n",
    "\n",
    "    # Calculate model output\n",
    "    output = model(zero_input).numpy()[0]\n",
    "\n",
    "    # Prepare data for bar chart\n",
    "    digits = [str(i) for i in range(10)][::-1]\n",
    "    output_values = output.tolist()[::-1]\n",
    "    \n",
    "    # Format output values to have 2 decimal places\n",
    "    formatted_output_values = [f\"{val:.2E}\" for val in output_values]\n",
    "\n",
    "    # Create a new figure with a white background\n",
    "    p = figure(y_range=FactorRange(factors=digits), \n",
    "               width=500, \n",
    "               title=\"Model Output for First Instance of Digit 0\",\n",
    "               y_axis_label='Digits',\n",
    "               x_axis_label='Model Output (~Probability)',\n",
    "               background_fill_color=\"white\")\n",
    "\n",
    "    # Create a ColumnDataSource with the data\n",
    "    source = ColumnDataSource(data=dict(digits=digits, output_values=output_values, formatted_output_values=formatted_output_values))\n",
    "\n",
    "    # Add a horizontal bar chart to the figure with black bars\n",
    "    p.hbar(y='digits', right='output_values', height=0.5, color=\"black\", source=source)\n",
    "\n",
    "    # Create labels for the bars with color based on a condition\n",
    "    color_mapper = LinearColorMapper(palette=['black', 'white'], low=min(output_values), high=max(output_values))\n",
    "    labels = LabelSet(x='output_values', y='digits', text='formatted_output_values', level='annotation',\n",
    "                      x_offset=5, y_offset=-10, text_align='left', text_color=transform('output_values', color_mapper), source=source)\n",
    "    \n",
    "    print(formatted_output_values)\n",
    "    # Add labels to the plot\n",
    "    p.add_layout(labels)\n",
    "\n",
    "    p.xaxis.axis_label_text_font_size = \"20pt\"\n",
    "    p.yaxis.axis_label_text_font_size = \"20pt\"\n",
    "    p.xaxis.major_label_text_font_size = \"15pt\"\n",
    "    p.yaxis.major_label_text_font_size = \"15pt\"\n",
    "\n",
    "    # Remove the grid\n",
    "    p.xgrid.grid_line_color = None\n",
    "    p.ygrid.grid_line_color = None\n",
    "\n",
    "    output_file_path = f\"generated/03_single_layer_output_plot_for_{output_digit}.html\"\n",
    "    \n",
    "    # Check/Create model directory\n",
    "    os.makedirs(output_file_path, exist_ok=True)\n",
    "\n",
    "    # Save the plot\n",
    "    output_file(output_file_path)\n",
    "    show(p)"
   ]
  },
  {
   "cell_type": "code",
   "execution_count": 5,
   "id": "c957141d-34d9-4558-82db-2febc41ac87d",
   "metadata": {},
   "outputs": [],
   "source": [
    "# Step 1: Load and prepare the MNIST dataset.\n",
    "def load_data():\n",
    "    # This data is already split into train and test datasets.\n",
    "    (x_train, y_train), (x_test, y_test) = mnist.load_data()\n",
    "\n",
    "    # Reshape and normalize the images to feed into the neural network.\n",
    "    x_train, x_test = tf.cast(x_train.reshape(-1, 784)/255.0, tf.float32), \\\n",
    "    tf.cast(x_test.reshape(-1, 784)/255.0, tf.float32)\n",
    "\n",
    "    # Convert labels to one-hot vectors. This is necessary as our output layer \n",
    "    # will have 10 neurons, one for each digit from 0 to 9.\n",
    "    y_train, y_test = tf.one_hot(y_train, depth=10), tf.one_hot(y_test, depth=10)\n",
    "    \n",
    "    return x_train, y_train, x_test, y_test"
   ]
  },
  {
   "cell_type": "code",
   "execution_count": 6,
   "id": "b3a9c34d-1437-4233-beaa-ccd16c0d5275",
   "metadata": {},
   "outputs": [],
   "source": [
    "# Step 2: Define the model\n",
    "def define_model():\n",
    "    W = tf.Variable(tf.random.normal([784, 10]), name=\"weights\", dtype = tf.float32)\n",
    "    b = tf.Variable(tf.zeros([10]), name=\"biases\",  dtype = tf.float32)\n",
    "    return W, b"
   ]
  },
  {
   "cell_type": "code",
   "execution_count": 7,
   "id": "b42eb95f-56d3-4ece-ba7b-943832dba5cc",
   "metadata": {},
   "outputs": [],
   "source": [
    "# Step 3: Define the model's computations\n",
    "def model(x, W, b):\n",
    "    return tf.nn.softmax(tf.matmul(x, W) + b)"
   ]
  },
  {
   "cell_type": "code",
   "execution_count": 8,
   "id": "e9c5446f-e420-4bf4-8a21-569ef38d7b79",
   "metadata": {},
   "outputs": [],
   "source": [
    "# Step 4: Define the loss function\n",
    "def compute_loss(y_true, y_pred):\n",
    "    return tf.reduce_mean(-tf.reduce_sum(y_true * tf.math.log(y_pred), axis=[1]))"
   ]
  },
  {
   "cell_type": "code",
   "execution_count": 9,
   "id": "74063448-13a1-4a32-a9e4-3ca1e400cebc",
   "metadata": {},
   "outputs": [],
   "source": [
    "# Step 5: Define the training step\n",
    "learning_rate = 0.01\n",
    "@tf.function\n",
    "def train_step(x, y, W, b):\n",
    "    with tf.GradientTape() as tape:\n",
    "        y_pred = model(x, W, b)\n",
    "        current_loss = compute_loss(y, y_pred)\n",
    "    gradients = tape.gradient(current_loss, [W, b])\n",
    "    W.assign_sub(learning_rate * gradients[0])  # update weights\n",
    "    b.assign_sub(learning_rate * gradients[1])  # update biases\n",
    "    return current_loss\n"
   ]
  },
  {
   "cell_type": "code",
   "execution_count": 10,
   "id": "0074695f-5af0-4821-9562-7d22d1d1ec80",
   "metadata": {},
   "outputs": [],
   "source": [
    "@tf.function\n",
    "def compute_model(x, W, b):\n",
    "    return model(x, W, b)\n",
    "\n",
    "# Define the accuracy calculation\n",
    "def compute_accuracy(y_true, y_pred):\n",
    "    correct_predictions = tf.equal(tf.argmax(y_pred, 1), tf.argmax(y_true, 1))\n",
    "    accuracy = tf.reduce_mean(tf.cast(correct_predictions, tf.float32))\n",
    "    return accuracy"
   ]
  },
  {
   "cell_type": "code",
   "execution_count": 11,
   "id": "d20dd159-e54c-44f0-9e46-ad9b0ddc0d0b",
   "metadata": {},
   "outputs": [],
   "source": [
    "def calculate_initial_loss(x, y, batch_size):\n",
    "    \n",
    "    for _ in range(len(x_train)//batch_size):\n",
    "        y_pred = model(x, W, b)\n",
    "        current_loss = compute_loss(y, y_pred)\n",
    "            \n",
    "    return current_loss\n",
    "    "
   ]
  },
  {
   "cell_type": "code",
   "execution_count": 12,
   "id": "2eea298d-ad63-4142-9e4a-a0fae1aa7d95",
   "metadata": {},
   "outputs": [],
   "source": [
    "def train_model(epochs, batch_size, x_train, y_train):\n",
    "    # Define model\n",
    "    W, b = define_model()\n",
    "\n",
    "    # Store loss and accuracy for each epoch\n",
    "    loss_per_epoch     = []\n",
    "    accuracy_per_epoch = []\n",
    "    \n",
    "    # Training loop\n",
    "    for epoch in range(epochs):\n",
    "        i = 0\n",
    "        while i < len(x_train):\n",
    "            start = i\n",
    "            end = i + batch_size\n",
    "            x_batch = x_train[start:end]\n",
    "            y_batch = y_train[start:end]\n",
    "            current_loss = train_step(x_batch, y_batch, W, b)\n",
    "            i += batch_size\n",
    "\n",
    "        # Compute loss and accuracy for each epoch\n",
    "        y_pred = compute_model(x_test, W, b)\n",
    "        loss_per_epoch.append(current_loss)\n",
    "        accuracy_per_epoch.append(compute_accuracy(y_test, y_pred))\n",
    "        print(f'Epoch {epoch+1} completed')\n",
    "        \n",
    "    return loss_per_epoch, accuracy_per_epoch, W, b"
   ]
  },
  {
   "cell_type": "code",
   "execution_count": 13,
   "id": "d78f485e-a26a-46ad-a4f2-1bbc104efde3",
   "metadata": {},
   "outputs": [
    {
     "name": "stderr",
     "output_type": "stream",
     "text": [
      "2023-09-14 03:56:45.645005: W tensorflow/tsl/framework/cpu_allocator_impl.cc:83] Allocation of 376320000 exceeds 10% of free system memory.\n",
      "2023-09-14 03:56:52.763394: W tensorflow/tsl/framework/cpu_allocator_impl.cc:83] Allocation of 188160000 exceeds 10% of free system memory.\n",
      "2023-09-14 03:56:53.783100: W tensorflow/tsl/framework/cpu_allocator_impl.cc:83] Allocation of 62720000 exceeds 10% of free system memory.\n",
      "2023-09-14 03:56:53.987077: W tensorflow/tsl/framework/cpu_allocator_impl.cc:83] Allocation of 31360000 exceeds 10% of free system memory.\n"
     ]
    }
   ],
   "source": [
    "x_train, y_train, x_test, y_test = load_data()"
   ]
  },
  {
   "cell_type": "code",
   "execution_count": 14,
   "id": "f2772a58-3a3a-4f8f-8dde-30fb27f6e3b1",
   "metadata": {},
   "outputs": [
    {
     "ename": "NameError",
     "evalue": "name 'os' is not defined",
     "output_type": "error",
     "traceback": [
      "\u001b[0;31m---------------------------------------------------------------------------\u001b[0m",
      "\u001b[0;31mNameError\u001b[0m                                 Traceback (most recent call last)",
      "Cell \u001b[0;32mIn[14], line 1\u001b[0m\n\u001b[0;32m----> 1\u001b[0m \u001b[43mplot_sample_digits\u001b[49m\u001b[43m(\u001b[49m\u001b[43mx_train\u001b[49m\u001b[43m,\u001b[49m\u001b[43m \u001b[49m\u001b[43my_train\u001b[49m\u001b[43m)\u001b[49m\n",
      "Cell \u001b[0;32mIn[2], line 25\u001b[0m, in \u001b[0;36mplot_sample_digits\u001b[0;34m(x_train, y_train)\u001b[0m\n\u001b[1;32m     23\u001b[0m \u001b[38;5;66;03m# Check/Create model directory\u001b[39;00m\n\u001b[1;32m     24\u001b[0m output_file_path \u001b[38;5;241m=\u001b[39m \u001b[38;5;124mf\u001b[39m\u001b[38;5;124m\"\u001b[39m\u001b[38;5;124mfigures/03_mnist_examples.png\u001b[39m\u001b[38;5;124m\"\u001b[39m\n\u001b[0;32m---> 25\u001b[0m \u001b[43mos\u001b[49m\u001b[38;5;241m.\u001b[39mmakedirs(output_file_path, exist_ok\u001b[38;5;241m=\u001b[39m\u001b[38;5;28;01mTrue\u001b[39;00m)\n\u001b[1;32m     27\u001b[0m \u001b[38;5;66;03m#Save figure\u001b[39;00m\n\u001b[1;32m     28\u001b[0m plt\u001b[38;5;241m.\u001b[39msavefig(output_file_path)\n",
      "\u001b[0;31mNameError\u001b[0m: name 'os' is not defined"
     ]
    },
    {
     "data": {
      "image/png": "[encoded data removed]",
      "text/plain": [
       "<Figure size 1000x400 with 10 Axes>"
      ]
     },
     "metadata": {},
     "output_type": "display_data"
    }
   ],
   "source": [
    "plot_sample_digits(x_train, y_train)"
   ]
  },
  {
   "cell_type": "code",
   "execution_count": null,
   "id": "b2c84aae-f365-48d0-9e59-070971ebf800",
   "metadata": {},
   "outputs": [],
   "source": [
    "loss_per_epoch, accuracy_per_epoch, W, b = train_model(15, 32, x_train, y_train)"
   ]
  },
  {
   "cell_type": "code",
   "execution_count": null,
   "id": "b0bd8dbb-9825-455c-a6d5-96dbfe9e229f",
   "metadata": {},
   "outputs": [],
   "source": [
    "plot_metrics([l.numpy() for l in loss_per_epoch], [a.numpy() for a in accuracy_per_epoch])\n",
    "plot_metrics_plt([l.numpy() for l in loss_per_epoch], [a.numpy() for a in accuracy_per_epoch])"
   ]
  },
  {
   "cell_type": "code",
   "execution_count": null,
   "id": "c386aad8-ddbe-4dbf-bc1e-93d7f946a985",
   "metadata": {},
   "outputs": [],
   "source": [
    "model_fn = lambda x: model(x, W, b)\n",
    "\n",
    "for i in range(10):\n",
    "    plot_model_output(model_fn, i, 2, x_train, y_train)"
   ]
  },
  {
   "cell_type": "code",
   "execution_count": null,
   "id": "93a54a7e-7b25-4e18-bb79-86f211fd86fa",
   "metadata": {},
   "outputs": [],
   "source": [
    "def plot_weight_maps(W, b):\n",
    "    # Convert TensorFlow variables to numpy\n",
    "    W_np = W.numpy()\n",
    "    b_np = b.numpy()\n",
    "\n",
    "    # Create grid for subplots and colorbar\n",
    "    fig = plt.figure(figsize=(12,5))\n",
    "    gs = gridspec.GridSpec(2, 6, width_ratios=[1, 1, 1, 1, 1, 0.05])\n",
    "    gs.update(wspace=0.1, hspace=0.1)  # set the spacing between axes.\n",
    "\n",
    "    # Reshape weight matrix into \"maps\" and plot them\n",
    "    cmap = plt.get_cmap('RdBu')\n",
    "    norm = colors.Normalize(vmin=b_np.min(), vmax=b_np.max())  # normalize biases to colormap range\n",
    "    \n",
    "    for i in range(10):\n",
    "        weight_map = W_np[:, i].reshape(28, 28)  # reshape weights\n",
    "        ax = plt.subplot(gs[i//5, i%5])\n",
    "        im = ax.imshow(weight_map, cmap=cmap)  # use a diverging colormap to show negative and positive weights\n",
    "        ax.axis('off')  # hide the axes ticks\n",
    "        color = cmap(norm(b_np[i]))  # map bias value to colormap\n",
    "        ax.set_title(f'{i}. Bias = {b_np[i]:.2f}')  # add class label and bias value, colored by bias value\n",
    "\n",
    "    # Create an axis for the colorbar on the right side\n",
    "    cbar_ax = plt.subplot(gs[:, -1])\n",
    "    cb = fig.colorbar(im, cax=cbar_ax, orientation='vertical')\n",
    "    cb.set_label('Weight')  # add colorbar label\n",
    "    \n",
    "    # Check/Create model directory\n",
    "    output_file_path = f\"generated/weight_maps.png\"\n",
    "    os.makedirs(output_file_path, exist_ok=True)\n",
    "    \n",
    "    #Save figure\n",
    "    plt.savefig(output_file_path)\n",
    "\n",
    "plot_sample_digits(x_train, y_train)\n",
    "plot_weight_maps(W, b)"
   ]
  },
  {
   "cell_type": "code",
   "execution_count": null,
   "id": "01adbc2e-6acf-4d97-bcb4-e5aa4bc0cac6",
   "metadata": {},
   "outputs": [],
   "source": []
  }
 ],
 "metadata": {
  "kernelspec": {
   "display_name": "py_ml_tools_310",
   "language": "python",
   "name": "py_ml_tools_310"
  },
  "language_info": {
   "codemirror_mode": {
    "name": "ipython",
    "version": 3
   },
   "file_extension": ".py",
   "mimetype": "text/x-python",
   "name": "python",
   "nbconvert_exporter": "python",
   "pygments_lexer": "ipython3",
   "version": "3.10.11"
  }
 },
 "nbformat": 4,
 "nbformat_minor": 5
}
